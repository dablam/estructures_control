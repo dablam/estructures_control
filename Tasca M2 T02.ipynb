{
 "cells": [
  {
   "cell_type": "markdown",
   "id": "fd2fc802",
   "metadata": {},
   "source": [
    "# EXERCICI  1\n",
    "\n",
    "### · classificació de variable numèrica en funció de l’escala suspès/aprovat/notable/excel·lent."
   ]
  },
  {
   "cell_type": "code",
   "execution_count": 2,
   "id": "9a240280",
   "metadata": {},
   "outputs": [
    {
     "name": "stdout",
     "output_type": "stream",
     "text": [
      "nota: 7.3\n",
      "notable\n"
     ]
    }
   ],
   "source": [
    "x = eval(input(\"nota: \"))\n",
    "\n",
    "if x < 5:\n",
    "    print(\"suspès\")\n",
    "elif x >= 5 and x < 7:\n",
    "    print(\"aprovat\")\n",
    "elif x >= 7 and x < 9:\n",
    "    print(\"notable\")\n",
    "elif x >= 9:\n",
    "    print(\"excel·lent\")"
   ]
  },
  {
   "cell_type": "markdown",
   "id": "c4321737",
   "metadata": {},
   "source": [
    "# EXERCICI 2\n",
    "\n",
    "### · programa preguntant 2 números."
   ]
  },
  {
   "cell_type": "code",
   "execution_count": 3,
   "id": "d25a58f9",
   "metadata": {},
   "outputs": [
    {
     "name": "stdout",
     "output_type": "stream",
     "text": [
      "num1: 63\n",
      "num2: 39\n",
      "num1 és més gran que num2\n"
     ]
    }
   ],
   "source": [
    "num1 = int(input(\"num1: \"))\n",
    "\n",
    "num2 = int(input(\"num2: \"))\n",
    "\n",
    "if num1 > num2: \n",
    "    print(\"num1 és més gran que num2\")\n",
    "elif num1 == num2:\n",
    "        print(\"num1 és igual a num2\")\n",
    "else:\n",
    "    print(\"num2 és més gran que num1\")"
   ]
  },
  {
   "cell_type": "markdown",
   "id": "99d193e5",
   "metadata": {},
   "source": [
    "# EXERCICI 3\n",
    "\n",
    "### · programa preguntar nom i número"
   ]
  },
  {
   "cell_type": "code",
   "execution_count": 4,
   "id": "95ac8eb1",
   "metadata": {},
   "outputs": [
    {
     "name": "stdout",
     "output_type": "stream",
     "text": [
      "nom: roger\n",
      "número: 3\n",
      "roger\n",
      "roger\n",
      "roger\n"
     ]
    }
   ],
   "source": [
    "nom = input(\"nom: \")\n",
    "\n",
    "num = int(input(\"número: \"))\n",
    "\n",
    "if num == 0:\n",
    "    print(\"error\")\n",
    "elif num != 0:\n",
    "    for _ in range(num):\n",
    "        print(nom)"
   ]
  },
  {
   "cell_type": "markdown",
   "id": "86125737",
   "metadata": {},
   "source": [
    "# EXERCICI 4\n",
    "\n",
    "### · donada una llista: és simètrica? \n",
    "### · si és simètrica: quants elements té? "
   ]
  },
  {
   "cell_type": "code",
   "execution_count": 8,
   "id": "ec897663",
   "metadata": {},
   "outputs": [
    {
     "name": "stdout",
     "output_type": "stream",
     "text": [
      "llista: 7,6,7\n",
      "['7,6,7']\n",
      "llista SIMÈTRICA 5\n"
     ]
    }
   ],
   "source": [
    "def check_palindrome_list(llista):\n",
    "   if llista == llista[::-1]:\n",
    "      print((\"llista SIMÈTRICA\"),len(llista))  \n",
    "        \n",
    "   else:\n",
    "      print(\"llista NO SIMÈTRICA\")\n",
    "\n",
    "llista = [input('llista: ')]\n",
    "print(llista)\n",
    "\n",
    "llista = ' '.join([str(x) for x in llista])\n",
    "check_palindrome_list(llista)\n",
    "\n",
    "# per que contabilitza les comes en una llista simètrica?"
   ]
  },
  {
   "cell_type": "markdown",
   "id": "b2289645",
   "metadata": {},
   "source": [
    "# EXERCICI 5\n",
    "\n",
    "### · donana una llista: quants números coincideixen en la seva posició?"
   ]
  },
  {
   "cell_type": "code",
   "execution_count": 4,
   "id": "e49c3d94",
   "metadata": {},
   "outputs": [
    {
     "name": "stdout",
     "output_type": "stream",
     "text": [
      "num: 1,1,3,3,4\n"
     ]
    }
   ],
   "source": [
    "nm = [input('num: ')]\n",
    "for i in range(len(nm)):\n",
    "    if i == nm[:]:\n",
    "        print(i)"
   ]
  },
  {
   "cell_type": "code",
   "execution_count": null,
   "id": "43d3d764",
   "metadata": {},
   "outputs": [],
   "source": []
  }
 ],
 "metadata": {
  "kernelspec": {
   "display_name": "Python 3 (ipykernel)",
   "language": "python",
   "name": "python3"
  },
  "language_info": {
   "codemirror_mode": {
    "name": "ipython",
    "version": 3
   },
   "file_extension": ".py",
   "mimetype": "text/x-python",
   "name": "python",
   "nbconvert_exporter": "python",
   "pygments_lexer": "ipython3",
   "version": "3.9.12"
  }
 },
 "nbformat": 4,
 "nbformat_minor": 5
}
