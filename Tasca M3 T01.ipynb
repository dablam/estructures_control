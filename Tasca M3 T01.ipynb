{
 "cells": [
  {
   "cell_type": "markdown",
   "id": "74d752b2",
   "metadata": {},
   "source": [
    "# EXERCICI 1\n",
    "\n",
    "### funció que d'una array 1-D faci un resum estadístic bàsic, del contrari doni missatge \"error\""
   ]
  },
  {
   "cell_type": "code",
   "execution_count": 1,
   "id": "d06d5e3c",
   "metadata": {},
   "outputs": [
    {
     "name": "stdout",
     "output_type": "stream",
     "text": [
      "[24 24 72 41 61 85 15]\n",
      "1\n",
      "mitja\n",
      "46.0\n",
      "desviacio\n",
      "25.002856979610492\n",
      "mitjana\n",
      "41.0\n",
      "variança\n",
      "625.1428571428571\n",
      "moda\n",
      "ModeResult(mode=array([24], dtype=int32), count=array([2]))\n",
      "covariança\n",
      "729.3333333333333\n"
     ]
    }
   ],
   "source": [
    "import numpy as np\n",
    "from numpy import random\n",
    "from scipy import stats\n",
    "\n",
    "a = random.randint(1, 100, size=(7), dtype='i')\n",
    "print(a)\n",
    "print(a.ndim)\n",
    "\n",
    "if a.ndim > 1:\n",
    "    print(\"error\")\n",
    "    \n",
    "else:\n",
    "    b = np.mean(a) # mitja\n",
    "    c = np.std(a) # desviacio estandard\n",
    "    d = np.median(a) # mitjana\n",
    "    e = np.var(a) # variança\n",
    "    f = stats.mode(a) # moda\n",
    "    g = np.cov(a) # covariança\n",
    "    \n",
    "#funcio resum estadistic\n",
    "\n",
    "def funcio(estadistica):\n",
    "    for x in estadistica:\n",
    "        print(x)\n",
    "        \n",
    "valors = [\"mitja\", b, \n",
    "          \"desviacio\", c,\n",
    "          \"mitjana\", d,\n",
    "          \"variança\", e,\n",
    "          \"moda\", f,\n",
    "          \"covariança\", g]\n",
    "\n",
    "funcio(valors)"
   ]
  },
  {
   "cell_type": "markdown",
   "id": "37915985",
   "metadata": {},
   "source": [
    "# EXERCICI 2\n",
    "\n",
    "### crear funció que generi un quadrat NxN de nombres aleatoris entre 0 i 100."
   ]
  },
  {
   "cell_type": "code",
   "execution_count": 2,
   "id": "4fcfbb8d",
   "metadata": {},
   "outputs": [
    {
     "name": "stdout",
     "output_type": "stream",
     "text": [
      "[[27 19 16 34 33 62 77]\n",
      " [28 20 10 84 53 98 15]\n",
      " [26 63 15  2  3 86 80]\n",
      " [91 50 60 81 57 58 72]\n",
      " [15 15 82 79  3 13 21]\n",
      " [54 12 77 80 10 74 85]\n",
      " [29  9 89 52 27 13 27]]\n"
     ]
    },
    {
     "data": {
      "text/plain": [
       "(7, 7)"
      ]
     },
     "execution_count": 2,
     "metadata": {},
     "output_type": "execute_result"
    }
   ],
   "source": [
    "nn = random.randint(0, 100, (7, 7))\n",
    "print(nn)\n",
    "nn.shape"
   ]
  },
  {
   "cell_type": "markdown",
   "id": "90334026",
   "metadata": {},
   "source": [
    "# EXERCICI 3\n",
    "\n",
    "### crear funció que donada una taula de 2 dimensions (NxM), calculi els totals per fila i els totals per columna."
   ]
  },
  {
   "cell_type": "code",
   "execution_count": 3,
   "id": "aeae4113",
   "metadata": {},
   "outputs": [
    {
     "name": "stdout",
     "output_type": "stream",
     "text": [
      "[[67 98 65 80 92]\n",
      " [69 92  5 81 83]]\n",
      "[402 330]\n",
      "[136 190  70 161 175]\n"
     ]
    }
   ],
   "source": [
    "nm = random.randint(0, 100, (2, 5))\n",
    "print(nm)\n",
    "\n",
    "#suma totals per fila\n",
    "total_files = np.sum(nm[:], axis=1)\n",
    "print (total_files)\n",
    "\n",
    "#suma totals per columna\n",
    "total_columnes = np.sum(nm[:], axis=0)\n",
    "print (total_columnes)"
   ]
  },
  {
   "cell_type": "markdown",
   "id": "846fab74",
   "metadata": {},
   "source": [
    "# EXERCICI 4\n",
    "\n",
    "### implementar manualment funció que calculi el coeficient de correlació, informar usos i interpretació."
   ]
  },
  {
   "cell_type": "code",
   "execution_count": 7,
   "id": "45532500",
   "metadata": {},
   "outputs": [
    {
     "name": "stdout",
     "output_type": "stream",
     "text": [
      "[[ 4 54 33]\n",
      " [45 77  0]]\n",
      "-0.6562469845168207\n",
      "[[1. 1.]\n",
      " [1. 1.]]\n"
     ]
    }
   ],
   "source": [
    "# Coeficient de correlació lineal (r): relació de linealitat o proporcionalitat entre dues variables.\n",
    "# -1 =< r =< +1 (r(+) correlació directa --- r = 0 no existeix correlació --- r(-) correlació inversa) \n",
    "\n",
    "cor = random.randint(0, 100, (2, 3))\n",
    "np.corrcoef(cor) # crea array de correlació\n",
    "print(cor)\n",
    "\n",
    "m1= np.mean(cor[0]) #mitja\n",
    "m2 = np.mean(cor[1])\n",
    "\n",
    "d1 = np.std(cor[0]) #desviació\n",
    "d2 = np.std(cor[1])\n",
    "\n",
    "r= (1/3-1)*((((cor[0, 0])-m1)/d1)*(((cor[1, 0])-m2)/d2)+(((cor[0, 1])-m1)/d1)*(((cor[1, 1])-m2)/d2)+(((cor[0, 2])-m1)/d1)*(((cor[1, 2])-m2)/d2))\n",
    "print (r)\n",
    "\n",
    "coeficient_correlacio = np.corrcoef(cor[:, 0], cor[:, 1])\n",
    "print (coeficient_correlacio)"
   ]
  },
  {
   "cell_type": "code",
   "execution_count": null,
   "id": "03325456",
   "metadata": {},
   "outputs": [],
   "source": []
  }
 ],
 "metadata": {
  "kernelspec": {
   "display_name": "Python 3 (ipykernel)",
   "language": "python",
   "name": "python3"
  },
  "language_info": {
   "codemirror_mode": {
    "name": "ipython",
    "version": 3
   },
   "file_extension": ".py",
   "mimetype": "text/x-python",
   "name": "python",
   "nbconvert_exporter": "python",
   "pygments_lexer": "ipython3",
   "version": "3.9.12"
  }
 },
 "nbformat": 4,
 "nbformat_minor": 5
}
